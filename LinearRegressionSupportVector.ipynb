{
  "nbformat": 4,
  "nbformat_minor": 0,
  "metadata": {
    "colab": {
      "name": "LinearRegressionSupportVector.ipynb",
      "provenance": [],
      "collapsed_sections": []
    },
    "kernelspec": {
      "name": "python3",
      "display_name": "Python 3"
    }
  },
  "cells": [
    {
      "cell_type": "code",
      "metadata": {
        "id": "Rdfesz6jxMJG",
        "outputId": "e43b9b22-0c70-4e7f-a17c-d3493db1637b",
        "colab": {
          "base_uri": "https://localhost:8080/",
          "height": 119
        }
      },
      "source": [
        "# This program predicts stonk prices by using Machine Learning models\n",
        "\n",
        "# Install the dependencies\n",
        "\n",
        "import numpy as np\n",
        "import pandas_datareader as web\n",
        "from sklearn.linear_model import LinearRegression\n",
        "from sklearn.svm import SVR\n",
        "from sklearn.model_selection import train_test_split\n",
        "\n",
        "# Get the stonk data\n",
        "stock = 'SPY'\n",
        "df = web.DataReader(stock, data_source='yahoo', start='2016-11-11')\n",
        "\n",
        "# Get the Adjusted Close Price\n",
        "df = df[['Adj Close']]\n",
        "\n",
        "# A variable for predicting 'n' days out into the future\n",
        "forecast_out = 10\n",
        "# Create another column (the target or dependent variable) shifted 'n' units up\n",
        "df['Prediction'] = df[['Adj Close']].shift(-forecast_out)\n",
        "\n",
        "# Create the independent data set (x)\n",
        "# Convert the DataFrame to a numpy array\n",
        "X = np.array(df.drop(['Prediction'], 1))\n",
        "# Remove the last 'n' rows\n",
        "X = X[:-forecast_out]\n",
        "\n",
        "# Create the dependent data set (y) \n",
        "# Convert the DataFrame to numpy array (All of the values including the NaN's)\n",
        "y = np.array(df['Prediction'])\n",
        "# Get all of the y values except the last 'n' rows\n",
        "y = y[:-forecast_out]\n",
        "\n",
        "# Split the data into 80% training and 20% testing\n",
        "x_train, x_test, y_train, y_test = train_test_split(X, y, test_size=0.15)\n",
        "\n",
        "# Create and train the Support Vector Machine (Regressor)\n",
        "svr_rbf = SVR(kernel='rbf', C=1e3, gamma=0.1)\n",
        "svr_rbf.fit(x_train, y_train)\n",
        "\n",
        "# Testing Model: Score returns the coefficient of determination of R^2 of the prediction.\n",
        "# The best possible score is 1.0\n",
        "svm_confidence = svr_rbf.score(x_test, y_test)\n",
        "print(svm_confidence)\n",
        "\n",
        "# Create and train the Linear Regression Model\n",
        "lr = LinearRegression()\n",
        "# Train the model\n",
        "lr.fit(x_train, y_train)\n",
        "\n",
        "# Testing Model: Score returns the coefficient of determination of R^2 of the prediction.\n",
        "# The best possible score is 1.0\n",
        "lr_confidence = lr.score(x_test, y_test)\n",
        "print(lr_confidence)\n",
        "\n",
        "# Set x_forecast equal to the last 30 rows of the original data set from Adj. Close column\n",
        "x_forecast = np.array(df.drop(['Prediction'], 1))[-forecast_out:]\n",
        "x_forecast\n",
        "\n",
        "# Print the predictions for the next 'n' days\n",
        "lr_prediction = lr.predict(x_forecast)\n",
        "print(lr_prediction)\n",
        "\n",
        "# Print Support Vector Regressor model predictions for the next 'n' days\n",
        "svm_prediction = svr_rbf.predict(x_forecast)\n",
        "print(svm_prediction)"
      ],
      "execution_count": 1,
      "outputs": [
        {
          "output_type": "stream",
          "text": [
            "0.9257683782701092\n",
            "0.9387500379683038\n",
            "[328.27275223 320.98306904 321.80148193 326.7786695  331.97472009\n",
            " 330.24269354 332.64089308 334.68695435 331.64163359 337.27546827]\n",
            "[311.32378401 327.10656771 328.44438279 332.28874554 336.96301879\n",
            " 300.75454411 344.86293865 342.44480901 330.78860271 326.90272807]\n"
          ],
          "name": "stdout"
        }
      ]
    },
    {
      "cell_type": "code",
      "metadata": {
        "id": "l9wJuxX8Umwz"
      },
      "source": [
        ""
      ],
      "execution_count": null,
      "outputs": []
    }
  ]
}